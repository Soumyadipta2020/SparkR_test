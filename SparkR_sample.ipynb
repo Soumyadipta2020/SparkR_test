{
 "cells": [
  {
   "cell_type": "markdown",
   "metadata": {},
   "source": [
    "# Docker Container"
   ]
  },
  {
   "cell_type": "code",
   "execution_count": 6,
   "metadata": {
    "vscode": {
     "languageId": "r"
    }
   },
   "outputs": [],
   "source": [
    "# docker run -it --name sparkr-jupy --mount type=bind,source=C:/Users/soumy/OneDrive/Coding,target=/app/data --rm -p 8888:8888 quay.io/jupyter/all-spark-notebook"
   ]
  },
  {
   "cell_type": "markdown",
   "metadata": {},
   "source": [
    "# Library"
   ]
  },
  {
   "cell_type": "code",
   "execution_count": 7,
   "metadata": {
    "vscode": {
     "languageId": "r"
    }
   },
   "outputs": [],
   "source": [
    "library(SparkR)"
   ]
  },
  {
   "cell_type": "markdown",
   "metadata": {
    "vscode": {
     "languageId": "r"
    }
   },
   "source": [
    "# Creating spark session"
   ]
  },
  {
   "cell_type": "code",
   "execution_count": null,
   "metadata": {
    "vscode": {
     "languageId": "r"
    }
   },
   "outputs": [
    {
     "name": "stderr",
     "output_type": "stream",
     "text": [
      "Warning message in sparkR.session():\n",
      "“SparkR is deprecated from Apache Spark 4.0.0 and will be removed in a future version.”\n"
     ]
    },
    {
     "data": {
      "text/plain": [
       "Java ref type org.apache.spark.sql.SparkSession id 1 "
      ]
     },
     "metadata": {},
     "output_type": "display_data"
    },
    {
     "name": "stderr",
     "output_type": "stream",
     "text": [
      "Warning message in sparkR.session(master = \"local[*]\", sparkConfig = list(spark.driver.memory = \"2g\")):\n",
      "“SparkR is deprecated from Apache Spark 4.0.0 and will be removed in a future version.”\n"
     ]
    },
    {
     "data": {
      "text/plain": [
       "Java ref type org.apache.spark.sql.SparkSession id 1 "
      ]
     },
     "metadata": {},
     "output_type": "display_data"
    }
   ],
   "source": [
    "sparkR.session()\n",
    "if (nchar(Sys.getenv(\"SPARK_HOME\")) < 1) {\n",
    "  Sys.setenv(SPARK_HOME = \"/home/spark\")\n",
    "}\n",
    "library(SparkR, lib.loc = c(file.path(Sys.getenv(\"SPARK_HOME\"), \"R\", \"lib\")))\n",
    "sparkR.session(master = \"local[*]\",\n",
    "               sparkConfig = list(spark.driver.memory = \"2g\"))"
   ]
  },
  {
   "cell_type": "markdown",
   "metadata": {},
   "source": [
    "# Read Data"
   ]
  },
  {
   "cell_type": "code",
   "execution_count": null,
   "metadata": {
    "vscode": {
     "languageId": "r"
    }
   },
   "outputs": [
    {
     "name": "stdout",
     "output_type": "stream",
     "text": [
      "+----------+------+-------+------+------+-------+----+\n",
      "|      date|  open|   high|   low| close| volume|Name|\n",
      "+----------+------+-------+------+------+-------+----+\n",
      "|2013-10-10| 22.51|  22.67|22.255| 22.38|4138462| BLL|\n",
      "|2013-07-17| 12.86|   12.9| 12.67| 12.74|3123738| AES|\n",
      "|2014-02-10| 48.78| 49.315| 48.75| 49.22|1458744| ADI|\n",
      "|2014-01-09| 36.02|  36.09| 35.86| 36.04|1226322| AEE|\n",
      "|2016-05-26|212.66|214.115|210.23|212.05| 422492| ADS|\n",
      "+----------+------+-------+------+------+-------+----+\n",
      "only showing top 5 rows\n"
     ]
    }
   ],
   "source": [
    "df_raw <- loadDF(path = \"/app/data/R/Spark_test/all_stocks_5yr.csv\", # File path\n",
    "  source = \"csv\", # file type\n",
    "  header = \"true\", # data have header or not\n",
    "  inferSchema = \"true\" # auto column type prediction\n",
    ")\n",
    "df <- repartition(df_raw, 10) # partition the data\n",
    "\n",
    "showDF(df, 5)"
   ]
  },
  {
   "cell_type": "markdown",
   "metadata": {},
   "source": [
    "# Select columns"
   ]
  },
  {
   "cell_type": "code",
   "execution_count": null,
   "metadata": {
    "vscode": {
     "languageId": "r"
    }
   },
   "outputs": [
    {
     "name": "stdout",
     "output_type": "stream",
     "text": [
      "+----------+------+\n",
      "|      date|  open|\n",
      "+----------+------+\n",
      "|2015-01-20| 51.88|\n",
      "|2016-07-21|  5.43|\n",
      "|2015-03-09|31.495|\n",
      "|2014-12-09|203.19|\n",
      "|2018-01-29|196.21|\n",
      "+----------+------+\n",
      "only showing top 5 rows\n"
     ]
    }
   ],
   "source": [
    "temp <- select(df, # Dataframe\n",
    "  c(\"date\", \"open\") # Column names to select\n",
    ")\n",
    "\n",
    "showDF(temp, 5)"
   ]
  },
  {
   "cell_type": "markdown",
   "metadata": {},
   "source": [
    "# Select rows"
   ]
  },
  {
   "cell_type": "code",
   "execution_count": 16,
   "metadata": {
    "vscode": {
     "languageId": "r"
    }
   },
   "outputs": [
    {
     "name": "stdout",
     "output_type": "stream",
     "text": [
      "+----------+-----+------+------+-----+-------+----+\n",
      "|      date| open|  high|   low|close| volume|Name|\n",
      "+----------+-----+------+------+-----+-------+----+\n",
      "|2013-10-10|22.51| 22.67|22.255|22.38|4138462| BLL|\n",
      "|2013-07-17|12.86|  12.9| 12.67|12.74|3123738| AES|\n",
      "|2014-02-10|48.78|49.315| 48.75|49.22|1458744| ADI|\n",
      "+----------+-----+------+------+-----+-------+----+\n"
     ]
    }
   ],
   "source": [
    "# Select first 3 rows\n",
    "temp <- limit(df, 3)\n",
    "\n",
    "showDF(temp)"
   ]
  },
  {
   "cell_type": "markdown",
   "metadata": {},
   "source": [
    "# Filter Data"
   ]
  },
  {
   "cell_type": "code",
   "execution_count": 20,
   "metadata": {
    "vscode": {
     "languageId": "r"
    }
   },
   "outputs": [
    {
     "name": "stdout",
     "output_type": "stream",
     "text": [
      "+----------+------+------+-----+------+--------+----+\n",
      "|      date|  open|  high|  low| close|  volume|Name|\n",
      "+----------+------+------+-----+------+--------+----+\n",
      "|2013-06-03|100.61|101.25|97.22| 99.13| 5009862|AMGN|\n",
      "|2016-08-16|100.52|100.97|99.91| 100.6| 1649250|ADBE|\n",
      "|2017-12-27|101.72|101.72| 99.4| 99.77|  988503| AAP|\n",
      "|2013-08-09| 100.1|100.57|99.75| 99.94|  856238| BDX|\n",
      "|2014-08-20|100.44|101.09|99.95|100.57|52699192|AAPL|\n",
      "+----------+------+------+-----+------+--------+----+\n",
      "only showing top 5 rows\n"
     ]
    }
   ],
   "source": [
    "temp <- filter(df, df$open > 100 & df$low < 100)\n",
    "\n",
    "showDF(temp, 5)"
   ]
  },
  {
   "cell_type": "code",
   "execution_count": null,
   "metadata": {
    "vscode": {
     "languageId": "r"
    }
   },
   "outputs": [],
   "source": []
  }
 ],
 "metadata": {
  "kernelspec": {
   "display_name": "R",
   "language": "R",
   "name": "ir"
  },
  "language_info": {
   "codemirror_mode": "r",
   "file_extension": ".r",
   "mimetype": "text/x-r-source",
   "name": "R",
   "pygments_lexer": "r",
   "version": "4.4.1"
  }
 },
 "nbformat": 4,
 "nbformat_minor": 2
}
