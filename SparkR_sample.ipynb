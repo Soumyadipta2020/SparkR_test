{
 "cells": [
  {
   "cell_type": "markdown",
   "metadata": {},
   "source": [
    "# Docker Container"
   ]
  },
  {
   "cell_type": "code",
   "execution_count": 1,
   "metadata": {
    "vscode": {
     "languageId": "r"
    }
   },
   "outputs": [],
   "source": [
    "# docker run -it --name sparkr-jupy --mount type=bind,source=C:/Users/soumy/OneDrive/Coding,target=/app/data --rm -p 8888:8888 quay.io/jupyter/all-spark-notebook"
   ]
  },
  {
   "cell_type": "markdown",
   "metadata": {},
   "source": [
    "# Library"
   ]
  },
  {
   "cell_type": "code",
   "execution_count": 2,
   "metadata": {
    "vscode": {
     "languageId": "r"
    }
   },
   "outputs": [
    {
     "name": "stderr",
     "output_type": "stream",
     "text": [
      "\n",
      "Attaching package: ‘SparkR’\n",
      "\n",
      "\n",
      "The following objects are masked from ‘package:stats’:\n",
      "\n",
      "    cov, filter, lag, na.omit, predict, sd, var, window\n",
      "\n",
      "\n",
      "The following objects are masked from ‘package:base’:\n",
      "\n",
      "    as.data.frame, colnames, colnames<-, drop, endsWith, intersect,\n",
      "    rank, rbind, sample, startsWith, subset, summary, transform, union\n",
      "\n",
      "\n",
      "\n",
      "Attaching package: ‘dplyr’\n",
      "\n",
      "\n",
      "The following objects are masked from ‘package:SparkR’:\n",
      "\n",
      "    arrange, between, coalesce, collect, contains, count, cume_dist,\n",
      "    dense_rank, desc, distinct, explain, expr, filter, first, group_by,\n",
      "    intersect, lag, last, lead, mutate, n, n_distinct, ntile,\n",
      "    percent_rank, rename, row_number, sample_frac, select, slice, sql,\n",
      "    summarize, union, where\n",
      "\n",
      "\n",
      "The following objects are masked from ‘package:stats’:\n",
      "\n",
      "    filter, lag\n",
      "\n",
      "\n",
      "The following objects are masked from ‘package:base’:\n",
      "\n",
      "    intersect, setdiff, setequal, union\n",
      "\n",
      "\n"
     ]
    }
   ],
   "source": [
    "library(SparkR)\n",
    "library(dplyr)"
   ]
  },
  {
   "cell_type": "markdown",
   "metadata": {
    "vscode": {
     "languageId": "r"
    }
   },
   "source": [
    "# Creating spark session"
   ]
  },
  {
   "cell_type": "code",
   "execution_count": 3,
   "metadata": {
    "vscode": {
     "languageId": "r"
    }
   },
   "outputs": [
    {
     "name": "stderr",
     "output_type": "stream",
     "text": [
      "Warning message in sparkR.session():\n",
      "“SparkR is deprecated from Apache Spark 4.0.0 and will be removed in a future version.”\n",
      "Spark package found in SPARK_HOME: /usr/local/spark\n",
      "\n"
     ]
    },
    {
     "name": "stdout",
     "output_type": "stream",
     "text": [
      "Launching java with spark-submit command /usr/local/spark/bin/spark-submit   sparkr-shell /tmp/Rtmp0028a5/backend_port17a572f5e0c62 \n"
     ]
    },
    {
     "data": {
      "text/plain": [
       "Java ref type org.apache.spark.sql.SparkSession id 1 "
      ]
     },
     "metadata": {},
     "output_type": "display_data"
    },
    {
     "name": "stderr",
     "output_type": "stream",
     "text": [
      "Warning message in sparkR.session(master = \"local[*]\", sparkConfig = list(spark.driver.memory = \"2g\")):\n",
      "“SparkR is deprecated from Apache Spark 4.0.0 and will be removed in a future version.”\n"
     ]
    },
    {
     "data": {
      "text/plain": [
       "Java ref type org.apache.spark.sql.SparkSession id 1 "
      ]
     },
     "metadata": {},
     "output_type": "display_data"
    }
   ],
   "source": [
    "sparkR.session()\n",
    "if (nchar(Sys.getenv(\"SPARK_HOME\")) < 1) {\n",
    "  Sys.setenv(SPARK_HOME = \"/home/spark\")\n",
    "}\n",
    "library(SparkR, lib.loc = c(file.path(Sys.getenv(\"SPARK_HOME\"), \"R\", \"lib\")))\n",
    "sparkR.session(master = \"local[*]\",\n",
    "               sparkConfig = list(spark.driver.memory = \"2g\"))"
   ]
  },
  {
   "cell_type": "markdown",
   "metadata": {},
   "source": [
    "# Read Data"
   ]
  },
  {
   "cell_type": "code",
   "execution_count": 4,
   "metadata": {
    "vscode": {
     "languageId": "r"
    }
   },
   "outputs": [
    {
     "name": "stdout",
     "output_type": "stream",
     "text": [
      "+----------+------+-------+-------+------+-------+----+\n",
      "|      date|  open|   high|    low| close| volume|Name|\n",
      "+----------+------+-------+-------+------+-------+----+\n",
      "|2014-05-05|  74.5|  74.66|  73.76| 74.51|4348608| BAX|\n",
      "|2014-01-14| 47.16| 47.894|  46.91|  47.8|2338221|ALLE|\n",
      "|2016-05-26|212.66|214.115| 210.23|212.05| 422492| ADS|\n",
      "|2016-05-18|210.84|  214.7|208.647|212.63| 893043| ADS|\n",
      "|2015-06-17|139.75|140.148| 139.08|139.76| 650779| BDX|\n",
      "+----------+------+-------+-------+------+-------+----+\n",
      "only showing top 5 rows\n"
     ]
    }
   ],
   "source": [
    "df_raw <- loadDF(\n",
    "  path = \"/app/data/R/SparkR_test/SparkR_test/all_stocks_5yr.csv\", # File path\n",
    "  source = \"csv\", # file type\n",
    "  header = \"true\", # data have header or not\n",
    "  inferSchema = \"true\" # auto column type prediction\n",
    ")\n",
    "df <- repartition(df_raw, 5) # partition the data\n",
    "\n",
    "showDF(df, 5)"
   ]
  },
  {
   "cell_type": "markdown",
   "metadata": {},
   "source": [
    "# Select columns"
   ]
  },
  {
   "cell_type": "code",
   "execution_count": 5,
   "metadata": {
    "vscode": {
     "languageId": "r"
    }
   },
   "outputs": [
    {
     "name": "stdout",
     "output_type": "stream",
     "text": [
      "+----------+------+\n",
      "|      date|  open|\n",
      "+----------+------+\n",
      "|2016-12-22|123.72|\n",
      "|2015-03-09|31.495|\n",
      "|2013-12-02| 23.55|\n",
      "|2014-01-22| 86.91|\n",
      "|2014-08-06|149.21|\n",
      "+----------+------+\n",
      "only showing top 5 rows\n"
     ]
    }
   ],
   "source": [
    "temp <- SparkR::select(df, # Dataframe\n",
    "  c(\"date\", \"open\") # Column names to select\n",
    ")\n",
    "\n",
    "showDF(temp, 5)"
   ]
  },
  {
   "cell_type": "markdown",
   "metadata": {},
   "source": [
    "# Select rows"
   ]
  },
  {
   "cell_type": "code",
   "execution_count": 6,
   "metadata": {
    "vscode": {
     "languageId": "r"
    }
   },
   "outputs": [
    {
     "name": "stdout",
     "output_type": "stream",
     "text": [
      "+----------+------+-------+------+------+-------+----+\n",
      "|      date|  open|   high|   low| close| volume|Name|\n",
      "+----------+------+-------+------+------+-------+----+\n",
      "|2014-05-05|  74.5|  74.66| 73.76| 74.51|4348608| BAX|\n",
      "|2014-01-14| 47.16| 47.894| 46.91|  47.8|2338221|ALLE|\n",
      "|2016-05-26|212.66|214.115|210.23|212.05| 422492| ADS|\n",
      "+----------+------+-------+------+------+-------+----+\n"
     ]
    }
   ],
   "source": [
    "# Select first 3 rows\n",
    "temp <- limit(df, 3)\n",
    "\n",
    "showDF(temp)"
   ]
  },
  {
   "cell_type": "markdown",
   "metadata": {},
   "source": [
    "# Filter Data"
   ]
  },
  {
   "cell_type": "code",
   "execution_count": 7,
   "metadata": {
    "vscode": {
     "languageId": "r"
    }
   },
   "outputs": [
    {
     "name": "stdout",
     "output_type": "stream",
     "text": [
      "+----------+------+------+-------+------+-------+----+\n",
      "|      date|  open|  high|    low| close| volume|Name|\n",
      "+----------+------+------+-------+------+-------+----+\n",
      "|2016-03-22|100.08|100.37| 99.455| 99.93|1435782| AMT|\n",
      "|2017-12-27|101.72|101.72|   99.4| 99.77| 988503| AAP|\n",
      "|2014-12-10|100.22| 101.1|  99.97|100.17|1826854| AMT|\n",
      "|2015-08-20|102.18|103.66|  99.87| 99.97|3459881| ACN|\n",
      "|2014-12-08| 104.0|104.17|99.6556|100.71|3484193|AVGO|\n",
      "+----------+------+------+-------+------+-------+----+\n",
      "only showing top 5 rows\n"
     ]
    }
   ],
   "source": [
    "temp <- SparkR::filter(df, \n",
    "    df$open > 100 & df$low < 100 # filter condition\n",
    ")\n",
    "\n",
    "showDF(temp, 5)"
   ]
  },
  {
   "cell_type": "markdown",
   "metadata": {},
   "source": [
    "# Schema"
   ]
  },
  {
   "cell_type": "code",
   "execution_count": 8,
   "metadata": {
    "vscode": {
     "languageId": "r"
    }
   },
   "outputs": [
    {
     "data": {
      "text/plain": [
       "StructType\n",
       "|-name = \"date\", type = \"DateType\", nullable = TRUE\n",
       "|-name = \"open\", type = \"DoubleType\", nullable = TRUE\n",
       "|-name = \"high\", type = \"DoubleType\", nullable = TRUE\n",
       "|-name = \"low\", type = \"DoubleType\", nullable = TRUE\n",
       "|-name = \"close\", type = \"DoubleType\", nullable = TRUE\n",
       "|-name = \"volume\", type = \"IntegerType\", nullable = TRUE\n",
       "|-name = \"Name\", type = \"StringType\", nullable = TRUE"
      ]
     },
     "metadata": {},
     "output_type": "display_data"
    }
   ],
   "source": [
    "schema(df)"
   ]
  },
  {
   "cell_type": "markdown",
   "metadata": {},
   "source": [
    "# Pivot Longer"
   ]
  },
  {
   "cell_type": "code",
   "execution_count": 9,
   "metadata": {
    "vscode": {
     "languageId": "r"
    }
   },
   "outputs": [
    {
     "name": "stdout",
     "output_type": "stream",
     "text": [
      "+----------+----+------+---------+\n",
      "|      date|Name|Metric|   Values|\n",
      "+----------+----+------+---------+\n",
      "|2014-05-05| BAX|  open|     74.5|\n",
      "|2014-05-05| BAX|  high|    74.66|\n",
      "|2014-05-05| BAX|   low|    73.76|\n",
      "|2014-05-05| BAX| close|    74.51|\n",
      "|2014-05-05| BAX|volume|4348608.0|\n",
      "+----------+----+------+---------+\n",
      "only showing top 5 rows\n"
     ]
    }
   ],
   "source": [
    "# Pivot Longer function\n",
    "pivot_longer_sparkr <- function(df, id_cols, name_col, value_col) {\n",
    "  library(SparkR)\n",
    "  # Get all column names from the DataFrame\n",
    "  all_cols <- colnames(df)\n",
    "  # Identify the columns to pivot by excluding the specified columns\n",
    "  cols_to_longer <- setdiff(all_cols, id_cols)\n",
    "  # Use stack to pivot the columns\n",
    "  long_df <- unpivot(df, id_cols, cols_to_longer, name_col, value_col)\n",
    "  return(long_df)\n",
    "}\n",
    "\n",
    "# Applying the function\n",
    "temp <- pivot_longer_sparkr(df, id_cols = c(\"date\", \"Name\"),\n",
    "                            name_col = \"Metric\", value_col = \"Values\")\n",
    "\n",
    "showDF(temp, 5)"
   ]
  },
  {
   "cell_type": "markdown",
   "metadata": {},
   "source": [
    "# Pivot wider"
   ]
  },
  {
   "cell_type": "code",
   "execution_count": 10,
   "metadata": {
    "vscode": {
     "languageId": "r"
    }
   },
   "outputs": [
    {
     "name": "stdout",
     "output_type": "stream",
     "text": [
      "+----------+----+------+------+-------+------+---------+\n",
      "|      date|Name| close|  high|    low|  open|   volume|\n",
      "+----------+----+------+------+-------+------+---------+\n",
      "|2013-08-09| BXP|105.09| 105.3|102.605|103.07| 926912.0|\n",
      "|2013-08-26|  PX|117.94|119.68| 117.85| 119.0| 768957.0|\n",
      "|2014-03-06|  CB| 98.15| 98.57|  97.48| 97.78|1331091.0|\n",
      "|2014-10-01| OMC| 67.44| 68.89|  67.22| 68.69|1625181.0|\n",
      "|2014-11-13| WAT|113.72|114.32| 113.26| 113.5| 324729.0|\n",
      "+----------+----+------+------+-------+------+---------+\n",
      "only showing top 5 rows\n"
     ]
    }
   ],
   "source": [
    "temp_new <- sum(\n",
    "    pivot(\n",
    "        groupBy(\n",
    "            temp, # dataframe\n",
    "            \"date\", \"Name\" # id columns\n",
    "            ), \n",
    "        \"Metric\" # column contains names\n",
    "        ), \n",
    "    \"Values\" # value column\n",
    ")\n",
    "showDF(temp_new, 5)"
   ]
  },
  {
   "cell_type": "markdown",
   "metadata": {},
   "source": [
    "# Column operation"
   ]
  },
  {
   "cell_type": "code",
   "execution_count": 11,
   "metadata": {
    "vscode": {
     "languageId": "r"
    }
   },
   "outputs": [
    {
     "name": "stdout",
     "output_type": "stream",
     "text": [
      "+----------+----+------+---------+------------------+\n",
      "|      date|Name|Metric|   Values|        values_100|\n",
      "+----------+----+------+---------+------------------+\n",
      "|2014-05-05| BAX|  open|     74.5|             0.745|\n",
      "|2014-05-05| BAX|  high|    74.66|0.7465999999999999|\n",
      "|2014-05-05| BAX|   low|    73.76|            0.7376|\n",
      "|2014-05-05| BAX| close|    74.51|0.7451000000000001|\n",
      "|2014-05-05| BAX|volume|4348608.0|          43486.08|\n",
      "+----------+----+------+---------+------------------+\n",
      "only showing top 5 rows\n"
     ]
    }
   ],
   "source": [
    "temp <- withColumn(\n",
    "    temp, # Dataframe\n",
    "    \"values_100\", # column name\n",
    "    temp$Values/100 # operation need to perform\n",
    ")\n",
    "showDF(temp, 5)"
   ]
  },
  {
   "cell_type": "markdown",
   "metadata": {},
   "source": [
    "# Replace a pattern"
   ]
  },
  {
   "cell_type": "code",
   "execution_count": 12,
   "metadata": {
    "vscode": {
     "languageId": "r"
    }
   },
   "outputs": [
    {
     "name": "stdout",
     "output_type": "stream",
     "text": [
      "+----------+----+------+---------+------------------+----------+\n",
      "|      date|Name|Metric|   Values|        values_100|Metric_new|\n",
      "+----------+----+------+---------+------------------+----------+\n",
      "|2014-05-05| BAX|  open|     74.5|             0.745|     __pen|\n",
      "|2014-05-05| BAX|  high|    74.66|0.7465999999999999|      high|\n",
      "|2014-05-05| BAX|   low|    73.76|            0.7376|      l__w|\n",
      "|2014-05-05| BAX| close|    74.51|0.7451000000000001|    cl__se|\n",
      "|2014-05-05| BAX|volume|4348608.0|          43486.08|   v__lume|\n",
      "+----------+----+------+---------+------------------+----------+\n",
      "only showing top 5 rows\n"
     ]
    }
   ],
   "source": [
    "temp_new <- withColumn(temp, \n",
    "    \"Metric_new\", \n",
    "    regexp_replace(\n",
    "        temp$Metric, # the column need to replace \n",
    "        \"o\", # the pattern need to replace\n",
    "        \"__\" # by which to replace\n",
    "    )\n",
    ")\n",
    "showDF(temp_new, 5)"
   ]
  },
  {
   "cell_type": "markdown",
   "metadata": {},
   "source": [
    "# Rename Columns"
   ]
  },
  {
   "cell_type": "code",
   "execution_count": 13,
   "metadata": {
    "vscode": {
     "languageId": "r"
    }
   },
   "outputs": [
    {
     "name": "stdout",
     "output_type": "stream",
     "text": [
      "+----------+---------+------+---------+------------------+\n",
      "|      date|name_test|Metric|   Values|        values_100|\n",
      "+----------+---------+------+---------+------------------+\n",
      "|2014-05-05|      BAX|  open|     74.5|             0.745|\n",
      "|2014-05-05|      BAX|  high|    74.66|0.7465999999999999|\n",
      "|2014-05-05|      BAX|   low|    73.76|            0.7376|\n",
      "|2014-05-05|      BAX| close|    74.51|0.7451000000000001|\n",
      "|2014-05-05|      BAX|volume|4348608.0|          43486.08|\n",
      "+----------+---------+------+---------+------------------+\n",
      "only showing top 5 rows\n"
     ]
    }
   ],
   "source": [
    "temp_new <- SparkR::withColumnRenamed(\n",
    "    temp, # Dataframe\n",
    "    \"Name\", # old name\n",
    "    \"name_test\" # new name\n",
    ")\n",
    "showDF(temp_new, 5)"
   ]
  },
  {
   "cell_type": "code",
   "execution_count": 14,
   "metadata": {
    "vscode": {
     "languageId": "r"
    }
   },
   "outputs": [
    {
     "name": "stdout",
     "output_type": "stream",
     "text": [
      "+----------+---------+------+-----------+------------------+\n",
      "|      date|name_test|Metric|values_test|        values_100|\n",
      "+----------+---------+------+-----------+------------------+\n",
      "|2014-05-05|      BAX|  open|       74.5|             0.745|\n",
      "|2014-05-05|      BAX|  high|      74.66|0.7465999999999999|\n",
      "|2014-05-05|      BAX|   low|      73.76|            0.7376|\n",
      "|2014-05-05|      BAX| close|      74.51|0.7451000000000001|\n",
      "|2014-05-05|      BAX|volume|  4348608.0|          43486.08|\n",
      "+----------+---------+------+-----------+------------------+\n",
      "only showing top 5 rows\n"
     ]
    }
   ],
   "source": [
    "temp_new <- SparkR::rename(\n",
    "    temp, # Dataframe\n",
    "    name_test = temp$Name, # new_name = dataframe$old_name\n",
    "    values_test = temp$Values # new_name = dataframe$old_name\n",
    ")\n",
    "showDF(temp_new, 5)"
   ]
  },
  {
   "cell_type": "markdown",
   "metadata": {},
   "source": [
    "# Dimension of dataframe"
   ]
  },
  {
   "cell_type": "code",
   "execution_count": 15,
   "metadata": {
    "vscode": {
     "languageId": "r"
    }
   },
   "outputs": [
    {
     "data": {
      "text/html": [
       "<style>\n",
       ".list-inline {list-style: none; margin:0; padding: 0}\n",
       ".list-inline>li {display: inline-block}\n",
       ".list-inline>li:not(:last-child)::after {content: \"\\00b7\"; padding: 0 .5ex}\n",
       "</style>\n",
       "<ol class=list-inline><li>3095200</li><li>5</li></ol>\n"
      ],
      "text/latex": [
       "\\begin{enumerate*}\n",
       "\\item 3095200\n",
       "\\item 5\n",
       "\\end{enumerate*}\n"
      ],
      "text/markdown": [
       "1. 3095200\n",
       "2. 5\n",
       "\n",
       "\n"
      ],
      "text/plain": [
       "[1] 3095200       5"
      ]
     },
     "metadata": {},
     "output_type": "display_data"
    }
   ],
   "source": [
    "dim(temp)"
   ]
  },
  {
   "cell_type": "markdown",
   "metadata": {},
   "source": [
    "# Pipeline operation"
   ]
  },
  {
   "cell_type": "markdown",
   "metadata": {},
   "source": [
    "## Example 1"
   ]
  },
  {
   "cell_type": "code",
   "execution_count": 16,
   "metadata": {
    "vscode": {
     "languageId": "r"
    }
   },
   "outputs": [
    {
     "name": "stdout",
     "output_type": "stream",
     "text": [
      "+----------+----+------+---------+------------------+----+------------------+\n",
      "|      date|Name|Metric|   Values|        values_100|name|             value|\n",
      "+----------+----+------+---------+------------------+----+------------------+\n",
      "|2014-05-05| BAX|  OPEN|     74.5|             0.745| bax|            7450.0|\n",
      "|2014-05-05| BAX|   LOW|    73.76|            0.7376| bax| 7376.000000000001|\n",
      "|2014-05-05| BAX| CLOSE|    74.51|0.7451000000000001| bax| 7451.000000000001|\n",
      "|2014-05-05| BAX|VOLUME|4348608.0|          43486.08| bax|        4.348608E8|\n",
      "|2014-01-09| AEE|  OPEN|    36.02|            0.3602| aee|3602.0000000000005|\n",
      "+----------+----+------+---------+------------------+----+------------------+\n",
      "only showing top 5 rows\n"
     ]
    }
   ],
   "source": [
    "temp_new <- temp %>% \n",
    "  withColumn(\"Metric\", upper(temp$Metric)) %>% \n",
    "  SparkR::filter(rlike(temp$Metric, \"o\") & year(temp$date) != 2016) %>% \n",
    "  SparkR::mutate(\n",
    "    name = lower(temp$Name),\n",
    "    value = temp$Values * 100\n",
    "  )\n",
    "\n",
    "showDF(temp_new, 5)"
   ]
  },
  {
   "cell_type": "markdown",
   "metadata": {},
   "source": [
    "## Example 2"
   ]
  },
  {
   "cell_type": "code",
   "execution_count": 17,
   "metadata": {
    "vscode": {
     "languageId": "r"
    }
   },
   "outputs": [
    {
     "name": "stdout",
     "output_type": "stream",
     "text": [
      "+----------+----+------+------+-------------------+\n",
      "|      date|Name|Metric|Values|         values_100|\n",
      "+----------+----+------+------+-------------------+\n",
      "|2014-05-05| BAX|  open|  74.5|              0.745|\n",
      "|2014-05-05| BAX| close| 74.51| 0.7451000000000001|\n",
      "|2014-01-14|ALLE|  open| 47.16|0.47159999999999996|\n",
      "|2014-01-14|ALLE| close|  47.8|              0.478|\n",
      "|2016-05-26| ADS|  open|212.66|             2.1266|\n",
      "+----------+----+------+------+-------------------+\n",
      "only showing top 5 rows\n"
     ]
    }
   ],
   "source": [
    "temp_new <- temp %>% \n",
    "  SparkR::filter(temp$Metric %in% c(\"open\", \"close\")) \n",
    "\n",
    "showDF(temp_new, 5)"
   ]
  },
  {
   "cell_type": "markdown",
   "metadata": {},
   "source": [
    "## Example 3"
   ]
  },
  {
   "cell_type": "code",
   "execution_count": 18,
   "metadata": {
    "vscode": {
     "languageId": "r"
    }
   },
   "outputs": [
    {
     "name": "stdout",
     "output_type": "stream",
     "text": [
      "+----------+------+-------+-------+------+-------+----+------------------+---------+\n",
      "|      date|  open|   high|    low| close| volume|Name|               var|var_level|\n",
      "+----------+------+-------+-------+------+-------+----+------------------+---------+\n",
      "|2014-05-05|  74.5|  74.66|  73.76| 74.51|4348608| BAX|0.8999999999999915|     High|\n",
      "|2014-01-14| 47.16| 47.894|  46.91|  47.8|2338221|ALLE|0.9840000000000018|     High|\n",
      "|2016-05-26|212.66|214.115| 210.23|212.05| 422492| ADS|3.8850000000000193|     High|\n",
      "|2016-05-18|210.84|  214.7|208.647|212.63| 893043| ADS| 6.052999999999997|     High|\n",
      "|2015-06-17|139.75|140.148| 139.08|139.76| 650779| BDX|1.0679999999999836|     High|\n",
      "+----------+------+-------+-------+------+-------+----+------------------+---------+\n",
      "only showing top 5 rows\n"
     ]
    }
   ],
   "source": [
    "temp_new <- df %>% \n",
    "    SparkR::mutate(\n",
    "        var = df$high - df$low\n",
    "    ) \n",
    "temp_new <- temp_new %>% \n",
    "    SparkR::mutate(\n",
    "        var_level = SparkR::ifelse(temp_new$var < 0, \"Low\", \"High\")\n",
    "    )\n",
    "showDF(temp_new, 5)"
   ]
  },
  {
   "cell_type": "markdown",
   "metadata": {},
   "source": [
    "# Exploratory Data Analysis"
   ]
  },
  {
   "cell_type": "code",
   "execution_count": 19,
   "metadata": {
    "vscode": {
     "languageId": "r"
    }
   },
   "outputs": [
    {
     "name": "stdout",
     "output_type": "stream",
     "text": [
      "+-------+-----------------+-----------------+-----------------+-----------------+-----------------+------+\n",
      "|summary|             open|             high|              low|            close|           volume|  Name|\n",
      "+-------+-----------------+-----------------+-----------------+-----------------+-----------------+------+\n",
      "|  count|           619029|           619032|           619032|           619040|           619040|619040|\n",
      "|   mean|83.02333431454844|83.77831069347327|82.25609641375269|  83.043762764765|4321823.395568945|  NULL|\n",
      "| stddev|97.37876904332376| 98.2075189044637|96.50742105809051|97.38974800165839|8693609.511967573|  NULL|\n",
      "|    min|             1.62|             1.69|              1.5|             1.59|                0|     A|\n",
      "|    25%|            40.22|            40.62|            39.83|            40.25|          1070288|  NULL|\n",
      "|    50%|            62.59|            63.15|            62.02|            62.62|          2081972|  NULL|\n",
      "|    75%|            94.36|            95.18|            93.53|             94.4|          4284185|  NULL|\n",
      "|    max|           2044.0|          2067.99|          2035.11|           2049.0|        618237630|   ZTS|\n",
      "+-------+-----------------+-----------------+-----------------+-----------------+-----------------+------+\n"
     ]
    }
   ],
   "source": [
    "showDF(summary(df), 20)"
   ]
  },
  {
   "cell_type": "markdown",
   "metadata": {},
   "source": [
    "# Summarize"
   ]
  },
  {
   "cell_type": "code",
   "execution_count": null,
   "metadata": {
    "vscode": {
     "languageId": "r"
    }
   },
   "outputs": [
    {
     "name": "stdout",
     "output_type": "stream",
     "text": [
      "+----------+------+------------------+--------+\n",
      "|      date|Metric|               Sum|     min|\n",
      "+----------+------+------------------+--------+\n",
      "|2015-02-23|volume|     1.761194847E9| 80474.0|\n",
      "|2014-07-28|  high| 38600.35239999999|    3.78|\n",
      "|2015-04-28| close|41963.850999999995|    2.31|\n",
      "|2016-02-10|  open|        36948.0323|    1.92|\n",
      "|2017-11-09|volume|     2.236264117E9|158938.0|\n",
      "+----------+------+------------------+--------+\n",
      "only showing top 5 rows\n"
     ]
    }
   ],
   "source": [
    "temp_new <- temp %>% \n",
    "    SparkR::group_by(\"date\", \"Metric\") %>% # group by\n",
    "    SparkR::summarize(                     # Summarization\n",
    "        Sum = sum(temp$Values),\n",
    "        min = min(temp$Values)\n",
    "    )\n",
    "\n",
    "showDF(temp_new, 5)"
   ]
  }
 ],
 "metadata": {
  "kernelspec": {
   "display_name": "R",
   "language": "R",
   "name": "ir"
  },
  "language_info": {
   "codemirror_mode": "r",
   "file_extension": ".r",
   "mimetype": "text/x-r-source",
   "name": "R",
   "pygments_lexer": "r",
   "version": "4.4.1"
  }
 },
 "nbformat": 4,
 "nbformat_minor": 2
}
